{
  "nbformat": 4,
  "nbformat_minor": 0,
  "metadata": {
    "colab": {
      "name": "Exemplos de aprendizagem de máquina.ipynb",
      "provenance": [],
      "collapsed_sections": [],
      "authorship_tag": "ABX9TyM+8OtU8ZYnhRL6BZ3pgnGg",
      "include_colab_link": true
    },
    "kernelspec": {
      "name": "python3",
      "display_name": "Python 3"
    }
  },
  "cells": [
    {
      "cell_type": "markdown",
      "metadata": {
        "id": "view-in-github",
        "colab_type": "text"
      },
      "source": [
        "<a href=\"https://colab.research.google.com/github/f-leno/puc_pratica_ML/blob/master/Exemplos_de_aprendizagem_de_m%C3%A1quina.ipynb\" target=\"_parent\"><img src=\"https://colab.research.google.com/assets/colab-badge.svg\" alt=\"Open In Colab\"/></a>"
      ]
    },
    {
      "cell_type": "markdown",
      "metadata": {
        "id": "Asd54uFnbL0u",
        "colab_type": "text"
      },
      "source": [
        "# Exercícios de Machine Learning\n",
        "\n",
        "Todos esses exemplos foram codificados em Python. \n",
        "\n",
        "Em geral, exemplos e Provas de Conceito podem ser executados aqui no Google Colab, mas para rodar o código em seu computador é recomendado que você tenha um ambiente gerenciador de pacotes como por exemplo [Anaconda](https://www.anaconda.com/distribution/)\n",
        "\n",
        "Lembre-se que para treinar algoritmos de Aprendizagem de Máquina precisamos de uma base de treinamento pré-preparada. \n",
        "\n",
        "Para gerenciamento de \"datasets\" utilizaremos o framework [Pandas](https://pandas.pydata.org/).\n",
        "\n",
        "As bases que consideraremos são a base *Portland* prevendo o preço de uma casa através de seu tamanho e número de quartos e a base *Advertising*  onde o volume de vendas é predito a partir do investimento em diferentes mídias"
      ]
    },
    {
      "cell_type": "code",
      "metadata": {
        "id": "bi-lAJJ8baN9",
        "colab_type": "code",
        "colab": {}
      },
      "source": [
        "import pandas as pd\n",
        "\n",
        "address_base = 'https://github.com/advinstai/Aprendizagem-estatistica-regressao/raw/master/exercicios/Advertising.csv'\n",
        "\n",
        "dados_adv = pd.read_csv(address_base, index_col=0)\n",
        "dados_adv.head()"
      ],
      "execution_count": 0,
      "outputs": []
    },
    {
      "cell_type": "code",
      "metadata": {
        "id": "_QOePAwfdGY9",
        "colab_type": "code",
        "colab": {}
      },
      "source": [
        "address_base = 'https://github.com/advinstai/Aprendizagem-estatistica-regressao/raw/master/exercicios/Portland_housePrices.csv'\n",
        "\n",
        "dados_por = pd.read_csv(address_base)\n",
        "dados_por.head()"
      ],
      "execution_count": 0,
      "outputs": []
    },
    {
      "cell_type": "markdown",
      "metadata": {
        "id": "zduxpi7fduMX",
        "colab_type": "text"
      },
      "source": [
        "Conforme estudamos em aula, utilizamos a base de treinamento para treinar um modelo preditivo\n",
        "\n",
        "![](https://drive.google.com/file/d/1YoVAoPoFMD2jobfEspmGsQDc94HoLQv3/)\n",
        "\n",
        "O framework [Scikit-learn](https://scikit-learn.org/stable/) provê diversas implementações de algoritmos de aprendizado e rotinas de pré-processamento necessárias para o desenvolvimento de um projeto de IA.\n",
        "\n",
        "\n"
      ]
    },
    {
      "cell_type": "code",
      "metadata": {
        "id": "7dH2cvhPgXG4",
        "colab_type": "code",
        "colab": {}
      },
      "source": [
        "import sklearn"
      ],
      "execution_count": 0,
      "outputs": []
    },
    {
      "cell_type": "markdown",
      "metadata": {
        "id": "C-9Xjewdgbjw",
        "colab_type": "text"
      },
      "source": [
        "Antes de treinar os algoritmos, vamos visualizar as bases de dados. Para isso, o framework [matplotlib](https://matplotlib.org/) disponibiliza funções para montar gráficos e representações visuais."
      ]
    },
    {
      "cell_type": "code",
      "metadata": {
        "id": "JtUM6IsbhJwV",
        "colab_type": "code",
        "colab": {}
      },
      "source": [
        "from matplotlib import pyplot as plt\n",
        "\n",
        "X = dados_por.loc[:,['tamanho']]\n",
        "y = dados_por.loc[:,['preco']]\n",
        "\n",
        "plt.scatter(X, y,color='g')\n",
        "plt.xlabel('Tamanho (pe2)')\n",
        "plt.ylabel('Preço')\n",
        "\n",
        "plt.figure()\n",
        "\n",
        "X = dados_por.loc[:,['quartos']]\n",
        "y = dados_por.loc[:,['preco']]\n",
        "\n",
        "plt.scatter(X, y,color='g')\n",
        "plt.xlabel('Quartos')\n",
        "plt.ylabel('Preço')"
      ],
      "execution_count": 0,
      "outputs": []
    },
    {
      "cell_type": "markdown",
      "metadata": {
        "id": "gUeDG9iIjGOW",
        "colab_type": "text"
      },
      "source": [
        "O primeiro algoritmo que vamos explorar é o de [Regressão Linear](https://scikit-learn.org/stable/modules/generated/sklearn.linear_model.LinearRegression.html).\n",
        "\n",
        "Para propósitos de visualização, vamos treinar um modelo (uma reta) para cada característica separadamente com o método `fit`."
      ]
    },
    {
      "cell_type": "code",
      "metadata": {
        "id": "OGkA7ec6jVyF",
        "colab_type": "code",
        "colab": {}
      },
      "source": [
        "from sklearn.linear_model import LinearRegression\n",
        "\n",
        "reg = LinearRegression()\n",
        "\n",
        "X = dados_por.loc[:,['tamanho']]\n",
        "y = dados_por.loc[:,['preco']]\n",
        "\n",
        "reg = reg.fit(X=X, y=y)"
      ],
      "execution_count": 0,
      "outputs": []
    },
    {
      "cell_type": "markdown",
      "metadata": {
        "id": "ssZ0Tckcl6z0",
        "colab_type": "text"
      },
      "source": [
        "Agora que temos o modelo treinado, o método `predict` pode ser usado para prever o valor de algum ponto."
      ]
    },
    {
      "cell_type": "code",
      "metadata": {
        "id": "GayAk3OxmEs6",
        "colab_type": "code",
        "colab": {}
      },
      "source": [
        "x = [[4200.]]\n",
        "\n",
        "reg.predict(x)"
      ],
      "execution_count": 0,
      "outputs": []
    },
    {
      "cell_type": "code",
      "metadata": {
        "id": "5-t5q8S1mbgr",
        "colab_type": "code",
        "colab": {}
      },
      "source": [
        "X = dados_por.loc[:,['tamanho']]\n",
        "y = dados_por.loc[:,['preco']]\n",
        "\n",
        "plt.scatter(X, y,color='g')\n",
        "plt.plot(X, reg.predict(X),color='k')\n",
        "plt.xlabel('Tamanho (pe2)')\n",
        "plt.ylabel('Preço')"
      ],
      "execution_count": 0,
      "outputs": []
    },
    {
      "cell_type": "code",
      "metadata": {
        "id": "c_0_D6TzmyGT",
        "colab_type": "code",
        "colab": {}
      },
      "source": [
        "X = dados_por.loc[:,['quartos']]\n",
        "y = dados_por.loc[:,['preco']]\n",
        "\n",
        "reg = LinearRegression().fit(X=X, y=y)\n",
        "\n",
        "plt.scatter(X, y,color='g')\n",
        "plt.plot(X, reg.predict(X),color='k')\n",
        "plt.xlabel('Tamanho (pe2)')\n",
        "plt.ylabel('Preço')"
      ],
      "execution_count": 0,
      "outputs": []
    },
    {
      "cell_type": "markdown",
      "metadata": {
        "id": "Wmxmuwq0aFAI",
        "colab_type": "text"
      },
      "source": [
        "O Principal problema de verificar resultados visualmente é que não conseguimos avaliar mais que três dimensões"
      ]
    },
    {
      "cell_type": "code",
      "metadata": {
        "id": "REL-T0z0aobM",
        "colab_type": "code",
        "colab": {}
      },
      "source": [
        "from mpl_toolkits.mplot3d import Axes3D\n",
        "\n",
        "ax = Axes3D(plt.figure())\n",
        "X = dados_por.loc[:,['tamanho']]\n",
        "Z = dados_por.loc[:,['quartos']]\n",
        "y = dados_por.loc[:,['preco']]\n",
        "\n",
        "reg = LinearRegression().fit(X=dados_por.loc[:, ['tamanho','quartos']], y=y)\n",
        "\n",
        "ax.scatter(X, Z, y, color='g')\n",
        "\n",
        "y_pred = [x[0] for x in reg.predict(dados_por.loc[:, ['tamanho','quartos']])]\n",
        "ax.plot(X, Z, zs=y_pred, color='k')\n",
        "#plt.plot(X, reg.predict(X),color='k')\n",
        "plt.xlabel('Tamanho (pe2)')\n",
        "plt.ylabel('quartos')\n"
      ],
      "execution_count": 0,
      "outputs": []
    },
    {
      "cell_type": "markdown",
      "metadata": {
        "id": "E5uffDlhiBbW",
        "colab_type": "text"
      },
      "source": [
        "Portanto precisamos de métricas **globais** que codifiquem o quão bom nosso modelo está sendo para classificar os pontos.\n",
        "\n",
        "O framework que estamos usando já disponibiliza diversas [métricas](https://scikit-learn.org/stable/modules/model_evaluation.html) para isso.\n",
        "\n",
        "Vamos avaliar o erro médio de nossa base de treinamento (Mean Absolut Error)"
      ]
    },
    {
      "cell_type": "code",
      "metadata": {
        "id": "GErmVMdmjjrN",
        "colab_type": "code",
        "colab": {}
      },
      "source": [
        "from sklearn.metrics import mean_absolute_error\n",
        "\n",
        "erro_medio = mean_absolute_error(y,y_pred)\n",
        "\n",
        "print(\"Erro médio: \" +str(erro_medio))\n",
        "print(\"Preço Médio: \" + str(float(dados_por.loc[:,['preco']].mean())))"
      ],
      "execution_count": 0,
      "outputs": []
    },
    {
      "cell_type": "markdown",
      "metadata": {
        "id": "NzvKljzFnLbz",
        "colab_type": "text"
      },
      "source": [
        "Agora com essas métricas de erro podemos avaliar se um algoritmo de aprendizado está indo bem ou não, mas ainda há um problema que não consideramos, [*overfitting*](https://pt.wikipedia.org/wiki/Sobreajuste)\n",
        "\n",
        "Podemos amenizar o viés do overfitting em nossa avaliação dividindo a base de treinamento entre \"treinamento\" e \"teste\", utilizando a base de treinamento para treinar o algoritmo e a de teste para testá-lo."
      ]
    },
    {
      "cell_type": "code",
      "metadata": {
        "id": "rB4s0hTKn2bj",
        "colab_type": "code",
        "colab": {}
      },
      "source": [
        "perc_treino = 0.7\n",
        "\n",
        "index_treino = int(len(dados_por) * perc_treino)\n",
        "\n",
        "treino_por = dados_por.iloc[:index_treino]\n",
        "teste_por = dados_por.iloc[index_treino:]\n",
        "\n",
        "X_train = treino_por.loc[:,['tamanho']]\n",
        "y_train = treino_por.loc[:,['preco']]\n",
        "plt.scatter(X_train, y_train,color='g')\n",
        "\n",
        "X = teste_por.loc[:,['tamanho']]\n",
        "y = teste_por.loc[:,['preco']]\n",
        "plt.scatter(X, y,color='r')\n",
        "\n",
        "\n",
        "plt.xlabel('Tamanho (pe2)')\n",
        "plt.ylabel('Preço')\n",
        "\n",
        "\n"
      ],
      "execution_count": 0,
      "outputs": []
    },
    {
      "cell_type": "code",
      "metadata": {
        "id": "SLGW7WxbqqXh",
        "colab_type": "code",
        "colab": {}
      },
      "source": [
        "reg = LinearRegression().fit(X=X_train, y=y_train)\n",
        "\n",
        "plt.scatter(X, y,color='r')\n",
        "plt.plot( X_train, reg.predict(X_train), color='k')\n",
        "\n",
        "plt.xlabel('Tamanho (pe2)')\n",
        "plt.ylabel('Preço')\n",
        "\n",
        "y_pred = reg.predict(X)\n",
        "print(\"Erro Médio:\" +str(mean_absolute_error(y,y_pred)))"
      ],
      "execution_count": 0,
      "outputs": []
    },
    {
      "cell_type": "markdown",
      "metadata": {
        "id": "__cew7b2rpli",
        "colab_type": "text"
      },
      "source": [
        "[Muitos](https://scikit-learn.org/stable/supervised_learning.html) algoritmos de aprendizado implementados pelo framework seguem essa mesma interface do Classificador Linear, o que significa que podemos testar facilmente muitos algoritmos para uma determinada base.\n",
        "\n",
        "Alguns exemplos de classificadores que voces ja conhecem são:\n",
        "\n",
        "[Árvore de Decisão](https://scikit-learn.org/stable/modules/generated/sklearn.tree.DecisionTreeRegressor.html)\n",
        "\n",
        "\n",
        "[K-vizinhos mais próximos](https://scikit-learn.org/stable/modules/generated/sklearn.neighbors.KNeighborsRegressor.html#sklearn.neighbors.KNeighborsRegressor)\n",
        "\n",
        "[Rede Neural (Multi-Layer Perceptron)](https://scikit-learn.org/stable/modules/generated/sklearn.neural_network.MLPRegressor.html)\n"
      ]
    },
    {
      "cell_type": "markdown",
      "metadata": {
        "id": "aKrLcUFh_9Hb",
        "colab_type": "text"
      },
      "source": [
        "## Tarefa\n",
        "\n",
        "Comparar a performance de 3 algoritmos de Regressão nas duas bases de treinamento e definir qual algoritmo é o melhor para cada uma das duas bases de treinamento (de preferência os algoritmos que vocês viram na aula).\n",
        "\n",
        "Após definir o melhor algoritmo, enviar sua análise falando qual foi o melhor algoritmo, como você chegou nessa conclusão, sua hipótese do porquê ele foi melhor que os outros e o código utilizado para f.leno@usp.br, e-mail com título \"Trabalho PUC A4 \\<RA\\> \\<Nome\\>\""
      ]
    },
    {
      "cell_type": "code",
      "metadata": {
        "id": "TWHcopkmCV5J",
        "colab_type": "code",
        "colab": {}
      },
      "source": [
        ""
      ],
      "execution_count": 0,
      "outputs": []
    }
  ]
}