{
  "nbformat": 4,
  "nbformat_minor": 0,
  "metadata": {
    "colab": {
      "name": "Introdução ao Python.ipynb",
      "provenance": [],
      "collapsed_sections": []
    },
    "kernelspec": {
      "name": "python3",
      "display_name": "Python 3"
    }
  },
  "cells": [
    {
      "cell_type": "markdown",
      "metadata": {
        "id": "0mYTgAvzVWvF",
        "colab_type": "text"
      },
      "source": [
        "## Exercícios Introdutórios em Python\n",
        "\n",
        "Estes primeiros exercícios visam familiarização com o ambiente e com a linguagem de programação Python.\n",
        "\n",
        "A utilização de Google Colab permite com que executemos código sem ter a instação de uma IDE, e como Python é uma linguagem interpretada não precisamos compilar.\n",
        "\n",
        "**Como programar em Python**\n",
        "\n",
        "O controle de início e fim de blocos de código é feito por identação\n",
        "\n"
      ]
    },
    {
      "cell_type": "code",
      "metadata": {
        "id": "hguW2mcKW7jb",
        "colab_type": "code",
        "colab": {
          "base_uri": "https://localhost:8080/",
          "height": 51
        },
        "outputId": "804d021c-5cc6-46c9-f9b3-ee326cec65aa"
      },
      "source": [
        "i = 0\n",
        "\n",
        "if (i == 0):\n",
        "  print (\"0\")\n",
        "else:\n",
        "  print (\"outro  valor\")\n",
        "if (i  >= 0):\n",
        "  print (\">=0\")"
      ],
      "execution_count": 1,
      "outputs": [
        {
          "output_type": "stream",
          "text": [
            "0\n",
            " >=0\n"
          ],
          "name": "stdout"
        }
      ]
    },
    {
      "cell_type": "markdown",
      "metadata": {
        "id": "6d2kl0SJXOIy",
        "colab_type": "text"
      },
      "source": [
        "Existem três tipos numericos em python: numeros inteiros, numeros de ponto flutuante e numeros complexos.\n",
        "\n",
        "\n",
        "\n",
        "1.   Booleanos sao um subtipo de n ́umeros inteiros.\n",
        "2.   Inteiros tem precisao ilimitada.\n",
        "3. Numeros de ponto flutuante sao geralmente implementados usando tipo Double em C\n",
        "\n",
        "\n",
        "\n",
        "\n"
      ]
    },
    {
      "cell_type": "code",
      "metadata": {
        "id": "DxUl0G7VYw7L",
        "colab_type": "code",
        "colab": {
          "base_uri": "https://localhost:8080/",
          "height": 119
        },
        "outputId": "0a025867-6b77-4c68-f7dd-6d24df322820"
      },
      "source": [
        "a = 10\n",
        "b = 5\n",
        "print(a == b)\n",
        "print(a != b)\n",
        "print(a > b)\n",
        "print(a < b)\n",
        "print(a  >= b)\n",
        "print(a  <= b)"
      ],
      "execution_count": 4,
      "outputs": [
        {
          "output_type": "stream",
          "text": [
            "False\n",
            "True\n",
            "True\n",
            "False\n",
            "True\n",
            "False\n"
          ],
          "name": "stdout"
        }
      ]
    },
    {
      "cell_type": "markdown",
      "metadata": {
        "id": "oMTtPBQpaKt7",
        "colab_type": "text"
      },
      "source": [
        "A palavra-chave def  ́e usada para definir funçoes\n",
        "\n"
      ]
    },
    {
      "cell_type": "code",
      "metadata": {
        "id": "UUq1nAvsaS4J",
        "colab_type": "code",
        "colab": {
          "base_uri": "https://localhost:8080/",
          "height": 34
        },
        "outputId": "001d7b6e-9ea6-41d4-f81b-c0f0cd31631d"
      },
      "source": [
        "def greeting():\n",
        "  print(\"hello  world\")\n",
        "  \n",
        "greeting ()"
      ],
      "execution_count": 5,
      "outputs": [
        {
          "output_type": "stream",
          "text": [
            "hello  world\n"
          ],
          "name": "stdout"
        }
      ]
    },
    {
      "cell_type": "code",
      "metadata": {
        "id": "4_i7ljNSaf4R",
        "colab_type": "code",
        "colab": {
          "base_uri": "https://localhost:8080/",
          "height": 34
        },
        "outputId": "4b7321bf-16ce-4ae2-9323-4b462b3b62b7"
      },
      "source": [
        "def numsquare(num):\n",
        "    return num * num\n",
        "\n",
        "number=10\n",
        "\n",
        "numsquare(number)\n",
        "\n",
        "def numsquare(num=10):\n",
        "    return num * num\n",
        "\n",
        "numsquare()"
      ],
      "execution_count": 6,
      "outputs": [
        {
          "output_type": "execute_result",
          "data": {
            "text/plain": [
              "100"
            ]
          },
          "metadata": {
            "tags": []
          },
          "execution_count": 6
        }
      ]
    },
    {
      "cell_type": "markdown",
      "metadata": {
        "id": "VQFoK2dUaqgp",
        "colab_type": "text"
      },
      "source": [
        "A palavra reservada import permite adicionar pacotes que não sao nativos do Python"
      ]
    },
    {
      "cell_type": "code",
      "metadata": {
        "id": "ZQS6EWpCa1ih",
        "colab_type": "code",
        "colab": {
          "base_uri": "https://localhost:8080/",
          "height": 34
        },
        "outputId": "4b36d5a4-c5dd-46de-b782-7bf770520802"
      },
      "source": [
        "import subprocess\n",
        "\n",
        "# Executa um comando linux no terminal\n",
        "\n",
        "subprocess.call('date')\n",
        "\n",
        "from sklearn.model_selection import train_test_split"
      ],
      "execution_count": 9,
      "outputs": [
        {
          "output_type": "stream",
          "text": [
            "0\n"
          ],
          "name": "stdout"
        }
      ]
    },
    {
      "cell_type": "markdown",
      "metadata": {
        "id": "1QOPBDYmbcOR",
        "colab_type": "text"
      },
      "source": [
        "As funções padrão de controle de fluxo de execução estão disponíveis no Python\n",
        "\n",
        "\n",
        "\n",
        "1.   If\n",
        "2.   for\n",
        "3. while\n",
        "\n",
        "Obs: Loops são geralmente ineficientes em Python, por isso, quando possível, as implementações são \"vetorizadas\"\n",
        "\n"
      ]
    },
    {
      "cell_type": "code",
      "metadata": {
        "id": "1zlx-a0Sbx2a",
        "colab_type": "code",
        "colab": {}
      },
      "source": [
        "var = 100\n",
        "\n",
        "if (var==100):\n",
        "    print(\"100\")\n",
        "else: \n",
        "    print(\"not 100\")"
      ],
      "execution_count": null,
      "outputs": []
    },
    {
      "cell_type": "code",
      "metadata": {
        "id": "ND1Gw7dbb1IR",
        "colab_type": "code",
        "colab": {}
      },
      "source": [
        "a=(10,20,30,40,50)\n",
        "for b in a:\n",
        "    print (\"square of \" + str(b) + \" is \" +str(b*b))"
      ],
      "execution_count": null,
      "outputs": []
    },
    {
      "cell_type": "code",
      "metadata": {
        "id": "-9Y9Q199b5Xp",
        "colab_type": "code",
        "colab": {}
      },
      "source": [
        "count = 0\n",
        "while (count $<$ 9):\n",
        "    print(\"iteração\",count)\n",
        "    count+=1"
      ],
      "execution_count": null,
      "outputs": []
    },
    {
      "cell_type": "markdown",
      "metadata": {
        "id": "WYnNa6bycLIY",
        "colab_type": "text"
      },
      "source": [
        "**Principais Operadores Lógicos**\n",
        "\n",
        "\n",
        "\n",
        "1.   and\n",
        "2.   or\n",
        "3. not\n",
        "\n",
        "\n",
        "\n"
      ]
    },
    {
      "cell_type": "code",
      "metadata": {
        "id": "_vEvEsskcmpy",
        "colab_type": "code",
        "colab": {}
      },
      "source": [
        "x = True\n",
        "y = False\n",
        "\n",
        "print('x and y is',x and y)\n",
        "print('x or y is',x or y)\n",
        "print('not x is',not x)"
      ],
      "execution_count": null,
      "outputs": []
    },
    {
      "cell_type": "markdown",
      "metadata": {
        "id": "XTM2KYXHcp5R",
        "colab_type": "text"
      },
      "source": [
        "**Coleções**\n",
        "\n",
        "Coleções são implementações de estrutura de dados.\n",
        "\n",
        "Permitem guardar e manipular conjuntos de valores de maneira organizada e otimizada\n",
        "\n",
        "**Coleções em Python**\n",
        "1. List\n",
        "2. Set \n",
        "3. Dictionary\n",
        "4. Tuple\n",
        "\n",
        "**Listas**\n",
        "\n",
        "São Mutáveis. Operações:\n",
        "\n",
        "1. append\n",
        "2. in \n",
        "3. sort\n",
        "4. split\n"
      ]
    },
    {
      "cell_type": "code",
      "metadata": {
        "id": "-qMP63M8dqmS",
        "colab_type": "code",
        "colab": {
          "base_uri": "https://localhost:8080/",
          "height": 51
        },
        "outputId": "40a08740-5b26-4c5d-8202-26ca2818f4f9"
      },
      "source": [
        "lotto = [2, 14, 26, 41, 63]\n",
        "print(lotto)\n",
        "\n",
        "lotto[2] = 28\n",
        "print(lotto)"
      ],
      "execution_count": 10,
      "outputs": [
        {
          "output_type": "stream",
          "text": [
            "[2, 14, 26, 41, 63]\n",
            "[2, 14, 28, 41, 63]\n"
          ],
          "name": "stdout"
        }
      ]
    },
    {
      "cell_type": "markdown",
      "metadata": {
        "id": "TTp4X292e0pS",
        "colab_type": "text"
      },
      "source": [
        "**Dicionários**\n",
        "\n",
        "Implementação de Hashtable "
      ]
    },
    {
      "cell_type": "code",
      "metadata": {
        "id": "bJhXQKCNfxMY",
        "colab_type": "code",
        "colab": {}
      },
      "source": [
        "eng2sp = {}\n",
        "eng2sp['one'] = 'uno'\n",
        "eng2sp['two'] = 'dos'\n",
        "\n",
        "eng2sp = { 'one': 'uno', 'two': 'dos', 'three':'tres' }"
      ],
      "execution_count": null,
      "outputs": []
    },
    {
      "cell_type": "markdown",
      "metadata": {
        "id": "TQirvYuLf16J",
        "colab_type": "text"
      },
      "source": [
        "**List Comprehension**\n",
        "\n",
        "Aplica uma expressão para cada elemento na lista"
      ]
    },
    {
      "cell_type": "code",
      "metadata": {
        "id": "JDyDyk_7f-xJ",
        "colab_type": "code",
        "colab": {}
      },
      "source": [
        "vec = [2, 4, 6]\n",
        "[3*x for x in vec]"
      ],
      "execution_count": null,
      "outputs": []
    },
    {
      "cell_type": "markdown",
      "metadata": {
        "id": "uogjPpBSgCFx",
        "colab_type": "text"
      },
      "source": [
        "**Slicing**\n",
        "\n",
        "Listas podem ser filtradas por meio de Slicing \n",
        "\n",
        "s[inicio:fim:passo]"
      ]
    },
    {
      "cell_type": "code",
      "metadata": {
        "id": "Izx9D5DfgUgp",
        "colab_type": "code",
        "colab": {}
      },
      "source": [
        ""
      ],
      "execution_count": null,
      "outputs": []
    },
    {
      "cell_type": "markdown",
      "metadata": {
        "id": "NHpg1gY5qGEw",
        "colab_type": "text"
      },
      "source": [
        "## Exercícios\n",
        "\n",
        "### 1) Escreva um programa que, dados 2 números diferentes (a e b), encontre o menor deles.\n",
        "\n",
        "### 2) Para doar sangue é necessário:\n",
        "\n",
        "* Ter entre 16 e 69 anos.\n",
        "* Pesar mais de 50 kg.\n",
        "* Estar descansado (ter dormido pelo menos 6 horas nas últimas 24 horas).\n",
        "\n",
        "Faça um programa que pergunte a idade, o peso e quanto dormiu nas últimas 24 h para uma pessoa e diga se ela pode doar sangue ou não.\n",
        "\n",
        "### 3) Considere uma equação do segundo grau f(x)=a⋅x2+b⋅x+c. A partir dos coeficientes, determine se a equação possui duas raízes reais, uma, ou se não possui.\n",
        "\n",
        "### 4) Leia dois números e efetue a adição. Caso o valor somado seja maior que 20, este deverá ser apresentado somando-se a ele mais 8; caso o valor somado seja menor ou igual a 20, este deverá ser apresentado subtraindo-se 5.\n",
        "\n",
        "### 5) Leia um número e imprima a raiz quadrada do número caso ele seja positivo ou igual a zero e o quadrado do número caso ele seja negativo.\n",
        "\n",
        "### 6) Escreva uma funcão para verificar a velocidade de motoristas. Essa funcão deve ter um parametro: `speed`.\n",
        "    1.  Se speed menor que 70, deve imprimir “Ok”.\n",
        "    2.  Case contrário, para cada 5km/h acima do limite (70), o radar deve aplicar um ponto na carteira do motorista, imprimindo quantos pontos foram retirados. Por exemplo, se speed é 80, Deve imprimir: “Pontos: 2”.\n",
        "    3.  Se o motorista tomar mais que 12 pontos, a funcão deve imprimir: “Licen suspended”\n",
        "\n",
        "### 7) Leia um número inteiro entre 1 e 12 e escreva o mês correspondente. Caso o usuário digite um número fora desse intervalo, deverá aparecer uma mensagem informando que não existe mês com este número.\n",
        "\n",
        "### 8)  Escreva uma funcão `show_stars(rows)`. Se `rows` for 5, deve-se imprimir o seguinte:\n",
        "    ```\n",
        "    *\n",
        "    **\n",
        "    ***\n",
        "    ****\n",
        "    *****\n",
        "    ```\n",
        "\n",
        "\n",
        "### 9)  Escreva uma funcão chamada `showNumbers`, que recebe o parâmetro `limit.` A funcão deve imprimir todos os números entre 0 e limit com uma label para identificar se o número é par ou ímparPor exemplo, se o limite for 3, deve-se imprimir:\n",
        "    *   0 PAR\n",
        "    *   1 IMPAR\n",
        "    *   2 PAR\n",
        "    *   3 IMPAR\n",
        "\n",
        "### 10) Escreva uma funcào que retorna a soma de múltiplos de 3 e 5 entre 0 e `limit` (parâmetro). Por exemplo, se limite for 20, deve retornar a soma de 3, 5, 6, 9, 10, 12, 15, 18, 20.\n",
        "\n",
        "### 11) Escreva uma funcão que imprima todos os números primos entre 0 e `limit` (um parâmetro).\n",
        "\n",
        "### 12) O python tem uma implementacão padrão de uma funcão ``sum`` para achar a soma dos elementos de uma lista, faca sua própria implementacão da funcão\n",
        "```\n",
        "\n",
        "    >>> sum([1, 2, 3])\n",
        "    >>> 6\n",
        "```\n",
        "\n",
        "### 13) O que acontece quando a sua funcão ``sum`` é chamaca com uma lista de strings? Voce consegue fazer a sua funcao funcionar com strings também?\n",
        "\n",
        "```\n",
        "\n",
        "    >>> sum([\"hello\", \"world\"])\n",
        "    \"helloworld\"\n",
        "    >>> sum([\"aa\", \"bb\", \"cc\"])\n",
        "    \"aabbcc\"\n",
        "```\n",
        "### 14): Implemente uma funcão ``product``, para computar o produto de uma lista de números.\n",
        "\n",
        "```\n",
        "\n",
        "    >>> product([1, 2, 3])\n",
        "    6\n",
        "```\n",
        "\n",
        "### 15) Implemente uma funcão que calcula o fatorial de um número:\n",
        "\n",
        "```\n",
        "\n",
        "    >>> factorial(4)\n",
        "    24\n",
        "```"
      ]
    }
  ]
}